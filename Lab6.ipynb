{
 "cells": [
  {
   "cell_type": "code",
   "execution_count": 11,
   "metadata": {
    "colab": {
     "base_uri": "https://localhost:8080/"
    },
    "id": "Z9L607Oylxlo",
    "outputId": "4a54104e-005a-4533-883d-a341089c1f34"
   },
   "outputs": [
    {
     "name": "stdout",
     "output_type": "stream",
     "text": [
      "(916, 3)\n",
      "(393, 3)\n",
      "(916,)\n",
      "(393,)\n",
      "cabin 37\n",
      "CabinReduced 0\n",
      "sex 0\n",
      "cabin_map 702\n",
      "CabinReduced_map 702\n",
      "cabin_map 312\n",
      "CabinReduced_map 312\n",
      "Zbior treningowy cabin 151\n",
      "zbior testowy cabin 151\n",
      "Zbior treningowy CabinReduced 9\n",
      "zbior testowy CabinReduced 9\n",
      "Zbior treningowy sex 2\n",
      "zbior testowy sex 2\n",
      "Zbior treningowy cabin_map 151\n",
      "zbior testowy cabin_map 151\n",
      "Zbior treningowy CabinReduced_map 9\n",
      "zbior testowy CabinReduced_map 9\n",
      "Zbior treningowy sex_map 2\n",
      "zbior testowy sex_map 2\n"
     ]
    }
   ],
   "source": [
    "import pandas as pd\n",
    "import numpy as np\n",
    "from sklearn.model_selection import train_test_split\n",
    "\n",
    "dane1 = pd.read_csv(\"dane1.csv\", na_values='?')\n",
    "col_name = [\"cabin\",\"CabinReduced\",\"sex\"]\n",
    "X_train, X_test, y_train, y_test = train_test_split(dane1[col_name],dane1[\"survived\"],test_size=0.3, random_state=0)\n",
    "print(X_train.shape)\n",
    "print(X_test.shape)\n",
    "print(y_train.shape)\n",
    "print(y_test.shape)\n",
    "\n",
    "for i in col_name:\n",
    "  Unique_test = [x for x in X_test[i].unique() if x not in X_train[i].unique()]\n",
    "  print(i, len(Unique_test))\n",
    "\n",
    "for j in col_name:\n",
    "  d = {}\n",
    "  for i, n in enumerate(X_train[j].unique()):\n",
    "    d[n] = i\n",
    "  a = str(j) + \"_map\"\n",
    "  X_train[a] = X_train[j].map(d)\n",
    "  d = {}\n",
    "  for i, n in enumerate(X_test[j].unique()):\n",
    "    d[n] = i\n",
    "  X_test[a] = X_test[j].map(d)\n",
    "\n",
    "print(\"cabin_map\",len(X_train[\"cabin_map\"][X_train[\"cabin_map\"]==0]))\n",
    "print(\"CabinReduced_map\",len(X_train[\"CabinReduced_map\"][X_train[\"CabinReduced_map\"]==0]))\n",
    "print(\"cabin_map\",len(X_test[\"cabin_map\"][X_test[\"cabin_map\"]==0]))\n",
    "print(\"CabinReduced_map\",len(X_test[\"CabinReduced_map\"][X_test[\"CabinReduced_map\"]==0]))\n",
    "\n",
    "X_train.tail(20)\n",
    "for i in X_train:\n",
    "  print(\"Zbior treningowy\",i, len(X_train[i].unique()))\n",
    "  print(\"zbior testowy\",i, len(X_train[i].unique()))"
   ]
  },
  {
   "cell_type": "markdown",
   "metadata": {
    "id": "iXC5UwNYLnUH"
   },
   "source": [
    "Zbior danych został podzielony na zbior treningowy 70% i zbior testowy 30%  wszystkich danych (col_name)\n",
    "\n",
    "Liczby brakujacych wartosci w zbiorze treningowym i testowym kolumn cabin i CabinReduced jest taka sama jest to dość oczywiste.\n",
    "Ich liczba jest duza w porownaniu do liczby danych.\n",
    "Kolumna sex nie ma brakujacych danych.\n",
    "\n",
    "Zastapienie brakujacych wartoci liczb 0 nie jest idealnym rozwiazaniem.Jednak w tym przypadu jest to dobre wyjscie. Biorac pod uwage ze sa to dane jakosciowe nie ma to wplywu na znieksztalcenie modelu.\n",
    "\n",
    "W obu zbiorach jest taka sama liczba unikalnych wartosci.\n",
    "Po redukcji liczba unikalnych wartosci bardzo zmalala (ponad 15 razy).\n",
    "Mapowanie nie ma wplywu na liczbe unikalnych wartosci.\n",
    "Tak drastyczna redukcja moze prowadzic do utraty waznych danych oraz ich roznorodnosci, w przypadku naszej analizy moze to uproscic model i przyszla analize."
   ]
  }
 ],
 "metadata": {
  "colab": {
   "provenance": []
  },
  "kernelspec": {
   "display_name": "Python 3 (ipykernel)",
   "language": "python",
   "name": "python3"
  },
  "language_info": {
   "codemirror_mode": {
    "name": "ipython",
    "version": 3
   },
   "file_extension": ".py",
   "mimetype": "text/x-python",
   "name": "python",
   "nbconvert_exporter": "python",
   "pygments_lexer": "ipython3",
   "version": "3.10.13"
  }
 },
 "nbformat": 4,
 "nbformat_minor": 4
}
