{
 "cells": [
  {
   "cell_type": "code",
   "execution_count": 6,
   "metadata": {
    "colab": {
     "base_uri": "https://localhost:8080/"
    },
    "id": "nXTNAQ3LfA_t",
    "outputId": "78b6216e-5656-4779-82fc-82cc3307f719"
   },
   "outputs": [
    {
     "name": "stdout",
     "output_type": "stream",
     "text": [
      "pclass          0\n",
      "survived        0\n",
      "name            0\n",
      "sex             0\n",
      "age           263\n",
      "sibsp           0\n",
      "parch           0\n",
      "ticket          0\n",
      "fare            1\n",
      "cabin        1014\n",
      "embarked        2\n",
      "boat          823\n",
      "body         1188\n",
      "home.dest     564\n",
      "dtype: int64\n",
      "pclass        0.000000\n",
      "survived      0.000000\n",
      "name          0.000000\n",
      "sex           0.000000\n",
      "age          20.091673\n",
      "sibsp         0.000000\n",
      "parch         0.000000\n",
      "ticket        0.000000\n",
      "fare          0.076394\n",
      "cabin        77.463713\n",
      "embarked      0.152788\n",
      "boat         62.872422\n",
      "body         90.756303\n",
      "home.dest    43.086325\n",
      "dtype: float64\n",
      "survived\n",
      "0    0.850433\n",
      "1    1.000000\n",
      "Name: brak ciala, dtype: float64\n",
      "survived\n",
      "0    0.988875\n",
      "1    0.046000\n",
      "Name: brak lodzi, dtype: float64\n",
      "Kolumny nie mają w tych samych miejscach NaN.\n"
     ]
    }
   ],
   "source": [
    "import pandas as pd\n",
    "import numpy as np\n",
    "dane1 = pd.read_csv(\"dane.csv\", header=None, na_values='?')\n",
    "dane1.columns = [\"pclass\",\"survived\",\"name\",\"sex\",\"age\",\"sibsp\",\"parch\",\"ticket\",\"fare\",\"cabin\",\"embarked\",\"boat\",\"body\",\"home.dest\"]\n",
    "dane1.head(20) #jest 14 cech w zbiorze\n",
    "brak_danych = dane1.isnull().sum()\n",
    "brak_danych_procent = dane1.isnull().mean() *100\n",
    "print(brak_danych)\n",
    "print(brak_danych_procent)\n",
    "dane1.loc[:,'brak lodzi'] = np.where(dane1.iloc[:,11].isnull(), 1, 0)\n",
    "dane1.loc[:,'brak ciala'] = np.where(dane1.iloc[:,12].isnull(), 1, 0)\n",
    "\n",
    "dane1\n",
    "\n",
    "# wiek,fare, kabina, cel, miejsce wejscia na poklad - MCAR nie powiazane z sytuacja braki danych\n",
    "# łódź - MAR powiazane z tym czy ktos przezyl czyli z kolumna survived\n",
    "# cialo - MNAR zalezne od tego zmiennej survived i od tego czy odnaleziono ciało\n",
    "\n",
    "print(dane1.groupby('survived')['brak ciala'].mean())\n",
    "#osoby ktore przezyly nie maja numeru ciala\n",
    "#osoby ktore nie przezyly w 85% przypadkow ich ciala zostaly odnalezione i posiadaja numer\n",
    "print(dane1.groupby('survived')['brak lodzi'].mean())\n",
    "#w wiekszosci osoby ktore przezyly maja numer lodzi\n",
    "#w innych przypadkach mogly one nie byc na zadnej lodzi i przezyc\n",
    "#w wiekszosci osoby ktore nie przezyly nie maja numeru lodzi\n",
    "#jest niewielka ilosc osob ktore nie przezyly pomimo znajdowania sie na lodzi\n",
    "\n",
    "#Brak danych typu:\n",
    "#MCAR mozna sprobowac zastapic poprzez srednia lub mediana\n",
    "#MAR mozna podac stala wartosc na przyklad 0 jako brak numeru lodzi\n",
    "#MNAR mozna rowniez sprobowac podac stala wartosc\n",
    "#nalezalo by rozroznic osoby ktore nie maja numeru ciala poniewaz przezyly i te osoby ktorych cial nie odnaleziono\n",
    "dane1"
   ]
  }
 ],
 "metadata": {
  "colab": {
   "provenance": []
  },
  "kernelspec": {
   "display_name": "Python 3 (ipykernel)",
   "language": "python",
   "name": "python3"
  },
  "language_info": {
   "codemirror_mode": {
    "name": "ipython",
    "version": 3
   },
   "file_extension": ".py",
   "mimetype": "text/x-python",
   "name": "python",
   "nbconvert_exporter": "python",
   "pygments_lexer": "ipython3",
   "version": "3.10.13"
  }
 },
 "nbformat": 4,
 "nbformat_minor": 4
}
